{
 "cells": [
  {
   "cell_type": "code",
   "execution_count": 2,
   "metadata": {},
   "outputs": [],
   "source": [
    "# usual imports \n",
    "import numpy as np\n",
    "import random\n",
    "import tensorflow as tf\n",
    "from tensorflow import keras\n",
    "from sklearn.preprocessing import StandardScaler\n",
    "from sklearn.model_selection import train_test_split\n",
    "import os\n",
    "import scipy.stats as sts\n",
    "import pandas as pd\n",
    "for gpu in tf.config.experimental.list_physical_devices('GPU'):\n",
    "      tf.config.experimental.set_memory_growth(gpu, True)\n",
    "import sys\n",
    "import pickle\n",
    "from matplotlib import pyplot as plt\n",
    "\n",
    "# link to the packages\n",
    "sys.path.append('./../packages')\n",
    "data_path = \"../data/\"\n",
    "post_path = \"../data/\"\n",
    "from utility import uniquify, reg_log\n",
    "from feat_extractor import feature_extract, post_extract \n",
    "from architecture import class_model, class_model_cnn"
   ]
  },
  {
   "cell_type": "code",
   "execution_count": 3,
   "metadata": {},
   "outputs": [],
   "source": [
    "# naming conventions of the data files\n",
    "# geometry and priors\n",
    "malp_min, malp_max = 0.1, 4.5\n",
    "tmalp_min, tmalp_max = 0.05, 500 # SHiP\n",
    "z_min, z_max, z_cal, l_x, l_y= 32, 82, 93, 2, 3 # SHiP\n",
    "x_min, x_max = -l_x, l_x\n",
    "y_min, y_max = -l_y, l_y\n",
    "\n",
    "par_lab = \"m_\"+str(malp_min)+\"_\"+str(malp_max)+\"_tm_\"+str(tmalp_min)+\"_\"+str(tmalp_max)+\"_\"\n",
    "geo_lab = \"c_\"+str(z_min)+\"_\"+str(z_max)+\"_\"+str(l_x)+\"_\"+str(l_y)\n"
   ]
  },
  {
   "cell_type": "code",
   "execution_count": 4,
   "metadata": {},
   "outputs": [],
   "source": [
    "def prior_m():\n",
    "    return sts.uniform(loc=np.log10(malp_min), scale= np.log10(malp_max/malp_min))\n",
    "\n",
    "def prior_tm():\n",
    "    return sts.uniform(loc=np.log10(tmalp_min), scale= np.log10(tmalp_max/tmalp_min))"
   ]
  },
  {
   "attachments": {},
   "cell_type": "markdown",
   "metadata": {},
   "source": [
    "## Training of ECO hunt"
   ]
  },
  {
   "cell_type": "code",
   "execution_count": 6,
   "metadata": {},
   "outputs": [],
   "source": [
    "smear = 1 # 0 or 1 for small or large smearing\n",
    "\n",
    "if smear ==0:\n",
    "    sigs, labsm = [0.001,0.01,0.005, 0.005 ], \"small\" # small uncertainty case\n",
    "elif smear == 1:\n",
    "    sigs, labsm = [0.001,0.05,0.01,  0.01  ], \"large\" # large uncertainty case"
   ]
  },
  {
   "cell_type": "code",
   "execution_count": 9,
   "metadata": {},
   "outputs": [],
   "source": [
    "dirname = uniquify(\"../models/model_01_\"+labsm+\"_\")\n",
    "os.mkdir(dirname)"
   ]
  },
  {
   "cell_type": "code",
   "execution_count": 10,
   "metadata": {},
   "outputs": [],
   "source": [
    "nobs =2\n",
    "\n",
    "trainfile0 = data_path + \"event_train_00_\"+par_lab+geo_lab+\".csv\"\n",
    "trainfile1 = data_path + \"event_train_11_\"+par_lab+geo_lab+\".csv\"\n",
    "\n",
    "# we do not save the masses and lifetimes for training (but they can be used for debugging)\n",
    "\n",
    "# extract features from bkg and sig\n",
    "feats=feature_extract(trainfile0, sigs[0], sigs[1], sigs[2], sigs[3], Eres=1,  x_min=x_min, x_max=x_max, y_min=y_min, y_max=y_max)\n",
    "features = np.vstack(([feats.extract_llo(iOBS) for iOBS in range(nobs)]))  \n",
    "x0 = features.T\n",
    "\n",
    "feats=feature_extract(trainfile1, sigs[0], sigs[1], sigs[2], sigs[3], Eres=1,  x_min=x_min, x_max=x_max, y_min=y_min, y_max=y_max)\n",
    "features = np.vstack(([feats.extract_llo(iOBS) for iOBS in range(nobs)]))  \n",
    "x1 = features.T\n",
    "\n",
    "\n",
    "X = np.vstack((x0,x1))\n",
    "y=np.hstack((np.zeros(len(x0)),np.ones(len(x1))))\n",
    "\n",
    "X_train, X_val, y_train, y_val = train_test_split(X, y, test_size=0.2, random_state=42)\n",
    "\n",
    "xzscaler=StandardScaler().fit(X_train) \n",
    "X_train=xzscaler.transform(X_train)\n",
    "X_val=xzscaler.transform(X_val)\n",
    "\n",
    "del X, x0, x1, feats, features # just in case, to save some memory\n",
    "\n",
    "with open(dirname+'/xzscaler.pkl', 'wb') as file_t:\n",
    "    pickle.dump(xzscaler, file_t)\n"
   ]
  },
  {
   "cell_type": "code",
   "execution_count": 11,
   "metadata": {},
   "outputs": [
    {
     "name": "stdout",
     "output_type": "stream",
     "text": [
      "Epoch 1/100\n",
      "98/98 [==============================] - 3s 12ms/step - loss: 0.5813 - accuracy: 0.6714 - val_loss: 1.1628 - val_accuracy: 0.5703\n",
      "Epoch 2/100\n",
      "98/98 [==============================] - 1s 10ms/step - loss: 0.4673 - accuracy: 0.7683 - val_loss: 1.3113 - val_accuracy: 0.5841\n",
      "Epoch 3/100\n",
      "98/98 [==============================] - 1s 9ms/step - loss: 0.4333 - accuracy: 0.7929 - val_loss: 0.8568 - val_accuracy: 0.6658\n",
      "Epoch 4/100\n",
      "98/98 [==============================] - 1s 9ms/step - loss: 0.4204 - accuracy: 0.8010 - val_loss: 0.6861 - val_accuracy: 0.7041\n",
      "Epoch 5/100\n",
      "98/98 [==============================] - 1s 10ms/step - loss: 0.4118 - accuracy: 0.8071 - val_loss: 0.5827 - val_accuracy: 0.7267\n",
      "Epoch 6/100\n",
      "98/98 [==============================] - 1s 11ms/step - loss: 0.4041 - accuracy: 0.8121 - val_loss: 0.5177 - val_accuracy: 0.7543\n",
      "Epoch 7/100\n",
      "98/98 [==============================] - 1s 10ms/step - loss: 0.4012 - accuracy: 0.8140 - val_loss: 0.4779 - val_accuracy: 0.7729\n",
      "Epoch 8/100\n",
      "98/98 [==============================] - 1s 11ms/step - loss: 0.3970 - accuracy: 0.8172 - val_loss: 0.4998 - val_accuracy: 0.7694\n",
      "Epoch 9/100\n",
      "98/98 [==============================] - 1s 10ms/step - loss: 0.3951 - accuracy: 0.8183 - val_loss: 0.4778 - val_accuracy: 0.7763\n",
      "Epoch 10/100\n",
      "98/98 [==============================] - 1s 10ms/step - loss: 0.3899 - accuracy: 0.8214 - val_loss: 0.4404 - val_accuracy: 0.7925\n",
      "Epoch 11/100\n",
      "98/98 [==============================] - 1s 10ms/step - loss: 0.3877 - accuracy: 0.8222 - val_loss: 0.4395 - val_accuracy: 0.7943\n",
      "Epoch 12/100\n",
      "98/98 [==============================] - 1s 11ms/step - loss: 0.3853 - accuracy: 0.8239 - val_loss: 0.4133 - val_accuracy: 0.8102\n",
      "Epoch 13/100\n",
      "98/98 [==============================] - 1s 10ms/step - loss: 0.3835 - accuracy: 0.8253 - val_loss: 0.4226 - val_accuracy: 0.8048\n",
      "Epoch 14/100\n",
      "98/98 [==============================] - 1s 10ms/step - loss: 0.3810 - accuracy: 0.8267 - val_loss: 0.4094 - val_accuracy: 0.8132\n",
      "Epoch 15/100\n",
      "98/98 [==============================] - 1s 9ms/step - loss: 0.3805 - accuracy: 0.8269 - val_loss: 0.4049 - val_accuracy: 0.8130\n",
      "Epoch 16/100\n",
      "98/98 [==============================] - 1s 10ms/step - loss: 0.3782 - accuracy: 0.8285 - val_loss: 0.3999 - val_accuracy: 0.8153\n",
      "Epoch 17/100\n",
      "98/98 [==============================] - 1s 11ms/step - loss: 0.3777 - accuracy: 0.8285 - val_loss: 0.4028 - val_accuracy: 0.8147\n",
      "Epoch 18/100\n",
      "98/98 [==============================] - 1s 10ms/step - loss: 0.3762 - accuracy: 0.8303 - val_loss: 0.3897 - val_accuracy: 0.8236\n",
      "Epoch 19/100\n",
      "98/98 [==============================] - 1s 10ms/step - loss: 0.3742 - accuracy: 0.8308 - val_loss: 0.4013 - val_accuracy: 0.8167\n",
      "Epoch 20/100\n",
      "98/98 [==============================] - 1s 10ms/step - loss: 0.3736 - accuracy: 0.8312 - val_loss: 0.4014 - val_accuracy: 0.8160\n",
      "Epoch 21/100\n",
      "98/98 [==============================] - 1s 10ms/step - loss: 0.3715 - accuracy: 0.8325 - val_loss: 0.3880 - val_accuracy: 0.8253\n",
      "Epoch 22/100\n",
      "98/98 [==============================] - 1s 10ms/step - loss: 0.3703 - accuracy: 0.8327 - val_loss: 0.3855 - val_accuracy: 0.8258\n",
      "Epoch 23/100\n",
      "98/98 [==============================] - 1s 10ms/step - loss: 0.3684 - accuracy: 0.8340 - val_loss: 0.3864 - val_accuracy: 0.8251\n",
      "Epoch 24/100\n",
      "98/98 [==============================] - 1s 10ms/step - loss: 0.3667 - accuracy: 0.8352 - val_loss: 0.3809 - val_accuracy: 0.8282\n",
      "Epoch 25/100\n",
      "98/98 [==============================] - 1s 13ms/step - loss: 0.3674 - accuracy: 0.8344 - val_loss: 0.3792 - val_accuracy: 0.8295\n",
      "Epoch 26/100\n",
      "98/98 [==============================] - 1s 11ms/step - loss: 0.3665 - accuracy: 0.8353 - val_loss: 0.3765 - val_accuracy: 0.8302\n",
      "Epoch 27/100\n",
      "98/98 [==============================] - 1s 10ms/step - loss: 0.3641 - accuracy: 0.8367 - val_loss: 0.3784 - val_accuracy: 0.8308\n",
      "Epoch 28/100\n",
      "98/98 [==============================] - 1s 9ms/step - loss: 0.3633 - accuracy: 0.8369 - val_loss: 0.3849 - val_accuracy: 0.8262\n",
      "Epoch 29/100\n",
      "98/98 [==============================] - 1s 10ms/step - loss: 0.3603 - accuracy: 0.8387 - val_loss: 0.3829 - val_accuracy: 0.8266\n",
      "Epoch 30/100\n",
      "98/98 [==============================] - 1s 10ms/step - loss: 0.3603 - accuracy: 0.8388 - val_loss: 0.3827 - val_accuracy: 0.8241\n",
      "Epoch 31/100\n",
      "98/98 [==============================] - 1s 10ms/step - loss: 0.3592 - accuracy: 0.8394 - val_loss: 0.3749 - val_accuracy: 0.8318\n",
      "Epoch 32/100\n",
      "98/98 [==============================] - 1s 10ms/step - loss: 0.3588 - accuracy: 0.8398 - val_loss: 0.3737 - val_accuracy: 0.8342\n",
      "Epoch 33/100\n",
      "98/98 [==============================] - 1s 10ms/step - loss: 0.3569 - accuracy: 0.8409 - val_loss: 0.3677 - val_accuracy: 0.8362\n",
      "Epoch 34/100\n",
      "98/98 [==============================] - 1s 9ms/step - loss: 0.3558 - accuracy: 0.8417 - val_loss: 0.3780 - val_accuracy: 0.8292\n",
      "Epoch 35/100\n",
      "98/98 [==============================] - 1s 10ms/step - loss: 0.3545 - accuracy: 0.8423 - val_loss: 0.3734 - val_accuracy: 0.8330\n",
      "Epoch 36/100\n",
      "98/98 [==============================] - 1s 10ms/step - loss: 0.3528 - accuracy: 0.8433 - val_loss: 0.3669 - val_accuracy: 0.8371\n",
      "Epoch 37/100\n",
      "98/98 [==============================] - 1s 11ms/step - loss: 0.3518 - accuracy: 0.8439 - val_loss: 0.3741 - val_accuracy: 0.8315\n",
      "Epoch 38/100\n",
      "98/98 [==============================] - 1s 10ms/step - loss: 0.3521 - accuracy: 0.8437 - val_loss: 0.3738 - val_accuracy: 0.8320\n",
      "Epoch 39/100\n",
      "98/98 [==============================] - 1s 10ms/step - loss: 0.3495 - accuracy: 0.8453 - val_loss: 0.3734 - val_accuracy: 0.8342\n",
      "Epoch 40/100\n",
      "98/98 [==============================] - 1s 10ms/step - loss: 0.3488 - accuracy: 0.8457 - val_loss: 0.3657 - val_accuracy: 0.8377\n",
      "Epoch 41/100\n",
      "98/98 [==============================] - 1s 9ms/step - loss: 0.3503 - accuracy: 0.8447 - val_loss: 0.3703 - val_accuracy: 0.8334\n",
      "Epoch 42/100\n",
      "98/98 [==============================] - 1s 10ms/step - loss: 0.3482 - accuracy: 0.8455 - val_loss: 0.3584 - val_accuracy: 0.8422\n",
      "Epoch 43/100\n",
      "98/98 [==============================] - 1s 10ms/step - loss: 0.3446 - accuracy: 0.8481 - val_loss: 0.3664 - val_accuracy: 0.8382\n",
      "Epoch 44/100\n",
      "98/98 [==============================] - 1s 10ms/step - loss: 0.3462 - accuracy: 0.8471 - val_loss: 0.3663 - val_accuracy: 0.8362\n",
      "Epoch 45/100\n",
      "98/98 [==============================] - 1s 10ms/step - loss: 0.3441 - accuracy: 0.8482 - val_loss: 0.3620 - val_accuracy: 0.8409\n",
      "Epoch 46/100\n",
      "98/98 [==============================] - 1s 10ms/step - loss: 0.3430 - accuracy: 0.8487 - val_loss: 0.3758 - val_accuracy: 0.8309\n",
      "Epoch 47/100\n",
      "98/98 [==============================] - 1s 10ms/step - loss: 0.3413 - accuracy: 0.8496 - val_loss: 0.3650 - val_accuracy: 0.8380\n",
      "Epoch 48/100\n",
      "98/98 [==============================] - 1s 9ms/step - loss: 0.3423 - accuracy: 0.8490 - val_loss: 0.3634 - val_accuracy: 0.8399\n",
      "Epoch 49/100\n",
      "98/98 [==============================] - 1s 9ms/step - loss: 0.3405 - accuracy: 0.8505 - val_loss: 0.3701 - val_accuracy: 0.8356\n",
      "Epoch 50/100\n",
      "98/98 [==============================] - 1s 9ms/step - loss: 0.3413 - accuracy: 0.8495 - val_loss: 0.3602 - val_accuracy: 0.8400\n",
      "Epoch 51/100\n",
      "98/98 [==============================] - 1s 9ms/step - loss: 0.3397 - accuracy: 0.8506 - val_loss: 0.3595 - val_accuracy: 0.8421\n",
      "Epoch 52/100\n",
      "98/98 [==============================] - 1s 9ms/step - loss: 0.3389 - accuracy: 0.8509 - val_loss: 0.3601 - val_accuracy: 0.8401\n",
      "Epoch 53/100\n",
      "98/98 [==============================] - 1s 9ms/step - loss: 0.3371 - accuracy: 0.8521 - val_loss: 0.3588 - val_accuracy: 0.8416\n",
      "Epoch 54/100\n",
      "98/98 [==============================] - 1s 10ms/step - loss: 0.3355 - accuracy: 0.8532 - val_loss: 0.3565 - val_accuracy: 0.8439\n",
      "Epoch 55/100\n",
      "98/98 [==============================] - 1s 10ms/step - loss: 0.3378 - accuracy: 0.8518 - val_loss: 0.3651 - val_accuracy: 0.8402\n",
      "Epoch 56/100\n",
      "98/98 [==============================] - 1s 11ms/step - loss: 0.3351 - accuracy: 0.8527 - val_loss: 0.3565 - val_accuracy: 0.8426\n",
      "Epoch 57/100\n",
      "98/98 [==============================] - 1s 10ms/step - loss: 0.3346 - accuracy: 0.8538 - val_loss: 0.3518 - val_accuracy: 0.8470\n",
      "Epoch 58/100\n",
      "98/98 [==============================] - 1s 11ms/step - loss: 0.3345 - accuracy: 0.8532 - val_loss: 0.3506 - val_accuracy: 0.8462\n",
      "Epoch 59/100\n",
      "98/98 [==============================] - 2s 18ms/step - loss: 0.3332 - accuracy: 0.8541 - val_loss: 0.3652 - val_accuracy: 0.8393\n",
      "Epoch 60/100\n",
      "98/98 [==============================] - 2s 20ms/step - loss: 0.3333 - accuracy: 0.8540 - val_loss: 0.3534 - val_accuracy: 0.8453\n",
      "Epoch 61/100\n",
      "98/98 [==============================] - 1s 15ms/step - loss: 0.3344 - accuracy: 0.8534 - val_loss: 0.3629 - val_accuracy: 0.8413\n",
      "Epoch 62/100\n",
      "98/98 [==============================] - 1s 14ms/step - loss: 0.3306 - accuracy: 0.8555 - val_loss: 0.3480 - val_accuracy: 0.8481\n",
      "Epoch 63/100\n",
      "98/98 [==============================] - 1s 14ms/step - loss: 0.3287 - accuracy: 0.8567 - val_loss: 0.3514 - val_accuracy: 0.8474\n",
      "Epoch 64/100\n",
      "98/98 [==============================] - 1s 13ms/step - loss: 0.3298 - accuracy: 0.8557 - val_loss: 0.3523 - val_accuracy: 0.8455\n",
      "Epoch 65/100\n",
      "98/98 [==============================] - 1s 13ms/step - loss: 0.3310 - accuracy: 0.8550 - val_loss: 0.3584 - val_accuracy: 0.8439\n",
      "Epoch 66/100\n",
      "98/98 [==============================] - 1s 13ms/step - loss: 0.3302 - accuracy: 0.8555 - val_loss: 0.3583 - val_accuracy: 0.8439\n",
      "Epoch 67/100\n",
      "98/98 [==============================] - 1s 14ms/step - loss: 0.3284 - accuracy: 0.8567 - val_loss: 0.3545 - val_accuracy: 0.8480\n",
      "Epoch 68/100\n",
      "98/98 [==============================] - 2s 18ms/step - loss: 0.3284 - accuracy: 0.8560 - val_loss: 0.3514 - val_accuracy: 0.8467\n",
      "Epoch 69/100\n",
      "98/98 [==============================] - 1s 15ms/step - loss: 0.3287 - accuracy: 0.8566 - val_loss: 0.3521 - val_accuracy: 0.8476\n",
      "Epoch 70/100\n",
      "98/98 [==============================] - 1s 13ms/step - loss: 0.3272 - accuracy: 0.8572 - val_loss: 0.3597 - val_accuracy: 0.8439\n",
      "Epoch 71/100\n",
      "98/98 [==============================] - 1s 14ms/step - loss: 0.3270 - accuracy: 0.8576 - val_loss: 0.3595 - val_accuracy: 0.8424\n",
      "Epoch 72/100\n",
      "98/98 [==============================] - 1s 13ms/step - loss: 0.3281 - accuracy: 0.8565 - val_loss: 0.3544 - val_accuracy: 0.8458\n",
      "Epoch 73/100\n",
      "98/98 [==============================] - 1s 14ms/step - loss: 0.3258 - accuracy: 0.8579 - val_loss: 0.3455 - val_accuracy: 0.8519\n",
      "Epoch 74/100\n",
      "98/98 [==============================] - 1s 12ms/step - loss: 0.3231 - accuracy: 0.8599 - val_loss: 0.3519 - val_accuracy: 0.8481\n",
      "Epoch 75/100\n",
      "98/98 [==============================] - 1s 13ms/step - loss: 0.3266 - accuracy: 0.8575 - val_loss: 0.3519 - val_accuracy: 0.8467\n",
      "Epoch 76/100\n",
      "98/98 [==============================] - 1s 14ms/step - loss: 0.3247 - accuracy: 0.8588 - val_loss: 0.3582 - val_accuracy: 0.8439\n",
      "Epoch 77/100\n",
      "98/98 [==============================] - 1s 15ms/step - loss: 0.3229 - accuracy: 0.8591 - val_loss: 0.3509 - val_accuracy: 0.8475\n",
      "Epoch 78/100\n",
      "98/98 [==============================] - 2s 19ms/step - loss: 0.3245 - accuracy: 0.8582 - val_loss: 0.3595 - val_accuracy: 0.8429\n",
      "Epoch 79/100\n",
      "98/98 [==============================] - 2s 18ms/step - loss: 0.3228 - accuracy: 0.8597 - val_loss: 0.3468 - val_accuracy: 0.8506\n",
      "Epoch 80/100\n",
      "98/98 [==============================] - 2s 17ms/step - loss: 0.3216 - accuracy: 0.8602 - val_loss: 0.3495 - val_accuracy: 0.8499\n",
      "Epoch 81/100\n",
      "98/98 [==============================] - 1s 15ms/step - loss: 0.3211 - accuracy: 0.8605 - val_loss: 0.3589 - val_accuracy: 0.8437\n",
      "Epoch 82/100\n",
      "98/98 [==============================] - 2s 16ms/step - loss: 0.3210 - accuracy: 0.8603 - val_loss: 0.3465 - val_accuracy: 0.8505\n"
     ]
    }
   ],
   "source": [
    "# parameters have been optimized with kerastuner\n",
    "decay_steps = 500\n",
    "decay_rate = 0.95\n",
    "batch_size = 4096\n",
    "min_d = 0.005\n",
    "patience = 20\n",
    "\n",
    "bn, n_lay, n_units, lr = 1, 4, 64, 2.4e-2\n",
    "\n",
    "\n",
    "meta_par = {\"n_units\": n_units, \"n_lay\": n_lay, \"lr\": lr, \"decay_steps\": decay_steps, \"decay_rate\": decay_rate, \"bn\": bn, \"batch_size\": batch_size, \"sigs\": sigs}\n",
    "\n",
    "with open(dirname+'/meta_par.pkl', 'wb') as file_t:\n",
    "    pickle.dump(meta_par, file_t)\n",
    "\n",
    "\n",
    "# call existing model-building code with the hyperparameter values.\n",
    "model = class_model(\n",
    "    n_units=n_units, n_lay=n_lay,  lr=lr, decay_steps=decay_steps, decay_rate=decay_rate, bn=bn\n",
    ")\n",
    "\n",
    "\n",
    "early= tf.keras.callbacks.EarlyStopping(\n",
    "monitor=\"val_accuracy\",\n",
    "min_delta=min_d,\n",
    "patience=patience,\n",
    "restore_best_weights=True,\n",
    ")\n",
    "\n",
    "history = model.fit(X_train, y_train, epochs=100, validation_data=(X_val, y_val), batch_size=batch_size, callbacks=[early, keras.callbacks.TensorBoard(dirname+\"/logs\")])"
   ]
  },
  {
   "cell_type": "code",
   "execution_count": 12,
   "metadata": {},
   "outputs": [
    {
     "name": "stdout",
     "output_type": "stream",
     "text": [
      "0.8579300045967102 0.8519399762153625\n"
     ]
    }
   ],
   "source": [
    "# check of the performance of the model before saving (this is the model which will be saved)\n",
    "model_index = np.argmax(history.history[\"val_accuracy\"])\n",
    "print(history.history[\"accuracy\"][model_index], history.history[\"val_accuracy\"][model_index])"
   ]
  },
  {
   "cell_type": "code",
   "execution_count": 25,
   "metadata": {},
   "outputs": [
    {
     "name": "stdout",
     "output_type": "stream",
     "text": [
      "INFO:tensorflow:Assets written to: models/ship/model_01_large_4/model.tf/assets\n"
     ]
    },
    {
     "name": "stderr",
     "output_type": "stream",
     "text": [
      "INFO:tensorflow:Assets written to: models/ship/model_01_large_4/model.tf/assets\n"
     ]
    }
   ],
   "source": [
    "# uncomment to save\n",
    "# two versions for improved tensorflow compatibility\n",
    "# model.save(dirname+\"/model.keras\")\n",
    "# model.save(dirname+\"/model.tf\")"
   ]
  },
  {
   "attachments": {},
   "cell_type": "markdown",
   "metadata": {},
   "source": [
    "## train posterior extractor"
   ]
  },
  {
   "cell_type": "code",
   "execution_count": 13,
   "metadata": {},
   "outputs": [],
   "source": [
    "smear = 0 # small or large uncertainty\n",
    "\n",
    "if smear == 0:\n",
    "    sigs, labsm = [0.001,0.01,0.005, 0.005 ], \"small\" # small uncertainty case\n",
    "elif smear == 1:\n",
    "    sigs, labsm = [0.001,0.05,0.01,  0.01  ], \"large\" # large uncertainty case"
   ]
  },
  {
   "cell_type": "code",
   "execution_count": 15,
   "metadata": {},
   "outputs": [],
   "source": [
    "dirname = uniquify(\"../models/model_post_\"+labsm+\"_\")\n",
    "os.mkdir(dirname)"
   ]
  },
  {
   "cell_type": "code",
   "execution_count": 16,
   "metadata": {},
   "outputs": [],
   "source": [
    "# here we need the mass to get the posterior\n",
    "trainfile = data_path+\"event_train_post_\"+par_lab+geo_lab+\".csv\"\n",
    "\n",
    "feats=feature_extract(trainfile, sigs[0], sigs[1], sigs[2], sigs[3], Eres=1,  x_min=x_min, x_max=x_max, y_min=y_min, y_max=y_max)\n",
    "features = feats.extract_llo(0)\n",
    "x = features.T\n",
    "\n",
    "malp, _ = feats.extract_model(0)\n",
    "\n",
    "# create wrong mass and event combination for training\n",
    "Nsam = int(len(malp)/2)\n",
    "malp_true = np.log10(malp[:Nsam])\n",
    "malp_fake = prior_m().rvs(Nsam)\n",
    "z = np.hstack((malp_true, malp_fake)).reshape(-1,1)\n",
    "\n",
    "y=np.hstack((np.ones(Nsam),np.zeros(Nsam)))\n",
    "\n",
    "X=np.hstack((z, x))\n",
    "y=np.hstack((np.ones(Nsam),np.zeros(Nsam)))\n",
    "X_train, X_val, y_train, y_val = train_test_split(X, y, test_size=0.2, random_state=42)\n",
    "\n",
    "del X, z, feats, features # just in case\n",
    "\n",
    "xzscaler=StandardScaler().fit(X_train) \n",
    "X_train=xzscaler.transform(X_train)\n",
    "X_val=xzscaler.transform(X_val)\n",
    "\n",
    "\n",
    "with open(dirname+'/xzscaler.pkl', 'wb') as file_t:\n",
    "    pickle.dump(xzscaler, file_t)\n"
   ]
  },
  {
   "cell_type": "code",
   "execution_count": 17,
   "metadata": {},
   "outputs": [
    {
     "name": "stdout",
     "output_type": "stream",
     "text": [
      "Epoch 1/2\n",
      "49/49 [==============================] - 1s 9ms/step - loss: 0.5247 - accuracy: 0.7151 - val_loss: 0.4014 - val_accuracy: 0.8099\n",
      "Epoch 2/2\n",
      "49/49 [==============================] - 0s 7ms/step - loss: 0.3689 - accuracy: 0.8334 - val_loss: 0.3474 - val_accuracy: 0.8460\n"
     ]
    }
   ],
   "source": [
    "# parameters have been optimized with kerastuner\n",
    "\n",
    "\n",
    "decay_steps = 500\n",
    "decay_rate = 0.95\n",
    "bn = 0\n",
    "batch_size = 4096\n",
    "min_d = 0.005\n",
    "patience = 20\n",
    "\n",
    "n_lay, n_units, lr = 4, 64, 2.4e-2\n",
    "\n",
    "meta_par = {\"n_units\": n_units, \"n_lay\": n_lay, \"lr\": lr, \"decay_steps\": decay_steps, \"decay_rate\": decay_rate, \"bn\": bn, \"batch_size\": batch_size, \"sigs\": sigs}\n",
    "\n",
    "with open(dirname+'/meta_par.pkl', 'wb') as file_t:\n",
    "    pickle.dump(meta_par, file_t)\n",
    "\n",
    "\n",
    "# call existing model-building code with the hyperparameter values.\n",
    "model = class_model(\n",
    "    n_units=n_units, n_lay=n_lay,  lr=lr, decay_steps=decay_steps, decay_rate=decay_rate, bn=bn\n",
    ")\n",
    "\n",
    "\n",
    "\n",
    "early= tf.keras.callbacks.EarlyStopping(\n",
    "monitor=\"val_loss\",\n",
    "min_delta=min_d,\n",
    "patience=patience,\n",
    "restore_best_weights=True,\n",
    ")\n",
    "\n",
    "\n",
    "history = model.fit(X_train, y_train, epochs=100, validation_data=(X_val, y_val), batch_size=batch_size, callbacks=[early, keras.callbacks.TensorBoard(dirname+\"/logs\")])\n"
   ]
  },
  {
   "cell_type": "code",
   "execution_count": 18,
   "metadata": {},
   "outputs": [
    {
     "name": "stdout",
     "output_type": "stream",
     "text": [
      "0.3688754439353943 0.3474162220954895\n"
     ]
    }
   ],
   "source": [
    "# check of the performance of the model before saving (this is the model which will be saved)\n",
    "model_index = np.argmin(history.history[\"val_loss\"])\n",
    "print(history.history[\"loss\"][model_index], history.history[\"val_loss\"][model_index])"
   ]
  },
  {
   "cell_type": "code",
   "execution_count": null,
   "metadata": {},
   "outputs": [],
   "source": [
    "# uncomment to save\n",
    "# two versions for improved tensorflow compatibility\n",
    "#model.save(dirname+\"/model.keras\")\n",
    "#model.save(dirname+\"/model.tf\")"
   ]
  },
  {
   "attachments": {},
   "cell_type": "markdown",
   "metadata": {},
   "source": [
    "## train EPO hunt"
   ]
  },
  {
   "cell_type": "code",
   "execution_count": 19,
   "metadata": {},
   "outputs": [],
   "source": [
    "smear = 0\n",
    "\n",
    "if smear == 0:\n",
    "    sigs, labsm = [0.001,0.01,0.005, 0.005 ], \"small\" # small uncertainty case\n",
    "elif smear == 1:\n",
    "    sigs, labsm = [0.001,0.05,0.01,  0.01  ], \"large\" # large uncertainty case"
   ]
  },
  {
   "cell_type": "code",
   "execution_count": 20,
   "metadata": {},
   "outputs": [],
   "source": [
    "n_units = 64\n",
    "n_lay = 4\n",
    "lr = 0.5e-3\n",
    "decay_steps = 500\n",
    "decay_rate = 0.95\n",
    "bn = 0\n",
    "maxp = 1\n",
    "filt_arr = [64, 64, 128]\n",
    "batch_size = 4096\n",
    "pref = -3\n",
    "\n",
    "meta_par = {\"maxp\": maxp, \"pref\": pref, \"n_units\": n_units, \"n_lay\": n_lay, \"lr\": lr, \"decay_steps\": decay_steps, \"decay_rate\": decay_rate, \"bn\": bn, \"batch_size\": batch_size, \"sigs\": sigs, \"filters\": filt_arr}\n"
   ]
  },
  {
   "cell_type": "code",
   "execution_count": 6,
   "metadata": {},
   "outputs": [],
   "source": [
    "# these files are not included as they are too large\n",
    "# they can be obtained with post_extract\n",
    "feats = post_extract(data_path + \"post_train_0_\"+labsm+\".csv\")\n",
    "x0= feats.extract_post(2)\n",
    "del feats\n",
    "\n",
    "\n",
    "feats = post_extract(data_path + \"post_train_1_\"+labsm+\".csv\")\n",
    "x1= feats.extract_post(2)\n",
    "del feats\n",
    "\n",
    "x0 = x0.reshape(250000,2,200)\n",
    "x1 = x1.reshape(250000,2,200)\n",
    "\n",
    "X = reg_log(np.vstack((x0,x1)), meta_par[\"pref\"])\n",
    "y=np.hstack((np.zeros(len(x0)),np.ones(len(x1))))\n",
    "\n",
    "del x0, x1\n",
    "# no need to save maxs and mins as the posterior are separately normalized\n",
    "\n",
    "X_train, X_val, y_train, y_val = train_test_split(X, y, test_size=0.2, random_state=42)\n",
    "del X, y"
   ]
  },
  {
   "cell_type": "code",
   "execution_count": 19,
   "metadata": {},
   "outputs": [],
   "source": [
    "dirname = uniquify(\"../models/model_post_01_\"+labsm+\"_\")\n",
    "os.mkdir(dirname)"
   ]
  },
  {
   "cell_type": "code",
   "execution_count": 20,
   "metadata": {},
   "outputs": [
    {
     "name": "stdout",
     "output_type": "stream",
     "text": [
      "Epoch 1/100\n",
      "98/98 [==============================] - 7s 54ms/step - loss: 0.4464 - accuracy: 0.7857 - val_loss: 0.3353 - val_accuracy: 0.8658\n",
      "Epoch 2/100\n",
      "98/98 [==============================] - 5s 49ms/step - loss: 0.3204 - accuracy: 0.8705 - val_loss: 0.3137 - val_accuracy: 0.8719\n",
      "Epoch 3/100\n",
      "98/98 [==============================] - 5s 50ms/step - loss: 0.3116 - accuracy: 0.8724 - val_loss: 0.3093 - val_accuracy: 0.8730\n",
      "Epoch 4/100\n",
      "98/98 [==============================] - 5s 50ms/step - loss: 0.3079 - accuracy: 0.8729 - val_loss: 0.3068 - val_accuracy: 0.8732\n",
      "Epoch 5/100\n",
      "98/98 [==============================] - 5s 50ms/step - loss: 0.3065 - accuracy: 0.8737 - val_loss: 0.3093 - val_accuracy: 0.8716\n",
      "Epoch 6/100\n",
      "98/98 [==============================] - 5s 52ms/step - loss: 0.3061 - accuracy: 0.8735 - val_loss: 0.3066 - val_accuracy: 0.8732\n",
      "Epoch 7/100\n",
      "98/98 [==============================] - 5s 50ms/step - loss: 0.3041 - accuracy: 0.8743 - val_loss: 0.3048 - val_accuracy: 0.8740\n",
      "Epoch 8/100\n",
      "98/98 [==============================] - 5s 50ms/step - loss: 0.3032 - accuracy: 0.8747 - val_loss: 0.3041 - val_accuracy: 0.8738\n",
      "Epoch 9/100\n",
      "98/98 [==============================] - 5s 52ms/step - loss: 0.3027 - accuracy: 0.8748 - val_loss: 0.3034 - val_accuracy: 0.8745\n",
      "Epoch 10/100\n",
      "98/98 [==============================] - 5s 52ms/step - loss: 0.3032 - accuracy: 0.8749 - val_loss: 0.3037 - val_accuracy: 0.8744\n",
      "Epoch 11/100\n",
      "98/98 [==============================] - 5s 55ms/step - loss: 0.3021 - accuracy: 0.8752 - val_loss: 0.3051 - val_accuracy: 0.8727\n",
      "Epoch 12/100\n",
      "98/98 [==============================] - 5s 53ms/step - loss: 0.3019 - accuracy: 0.8746 - val_loss: 0.3036 - val_accuracy: 0.8739\n",
      "Epoch 13/100\n",
      "98/98 [==============================] - 5s 51ms/step - loss: 0.3018 - accuracy: 0.8752 - val_loss: 0.3032 - val_accuracy: 0.8744\n",
      "Epoch 14/100\n",
      "98/98 [==============================] - 5s 52ms/step - loss: 0.3017 - accuracy: 0.8750 - val_loss: 0.3026 - val_accuracy: 0.8744\n",
      "Epoch 15/100\n",
      "98/98 [==============================] - 5s 52ms/step - loss: 0.3013 - accuracy: 0.8754 - val_loss: 0.3030 - val_accuracy: 0.8736\n",
      "Epoch 16/100\n",
      "98/98 [==============================] - 5s 55ms/step - loss: 0.3016 - accuracy: 0.8751 - val_loss: 0.3037 - val_accuracy: 0.8741\n",
      "Epoch 17/100\n",
      "98/98 [==============================] - 5s 51ms/step - loss: 0.3009 - accuracy: 0.8752 - val_loss: 0.3027 - val_accuracy: 0.8740\n",
      "Epoch 18/100\n",
      "98/98 [==============================] - 5s 54ms/step - loss: 0.3006 - accuracy: 0.8756 - val_loss: 0.3025 - val_accuracy: 0.8738\n",
      "Epoch 19/100\n",
      "98/98 [==============================] - 5s 52ms/step - loss: 0.3005 - accuracy: 0.8757 - val_loss: 0.3031 - val_accuracy: 0.8740\n",
      "Epoch 20/100\n",
      "98/98 [==============================] - 5s 52ms/step - loss: 0.3005 - accuracy: 0.8756 - val_loss: 0.3033 - val_accuracy: 0.8737\n",
      "Epoch 21/100\n",
      "98/98 [==============================] - 5s 53ms/step - loss: 0.3001 - accuracy: 0.8755 - val_loss: 0.3031 - val_accuracy: 0.8740\n",
      "Epoch 22/100\n",
      "98/98 [==============================] - 5s 52ms/step - loss: 0.3002 - accuracy: 0.8757 - val_loss: 0.3027 - val_accuracy: 0.8745\n"
     ]
    }
   ],
   "source": [
    "with open(dirname+'/meta_par.pkl', 'wb') as file_t:\n",
    "    pickle.dump(meta_par, file_t)\n",
    "\n",
    "\n",
    "# call existing model-building code with the hyperparameter values.\n",
    "model = class_model_cnn(\n",
    "    n_units=n_units, n_lay=n_lay,  lr=lr, decay_steps=decay_steps, decay_rate=decay_rate, bn=bn, filters=filt_arr, maxp = maxp\n",
    ")\n",
    "\n",
    "early= tf.keras.callbacks.EarlyStopping(\n",
    "monitor=\"val_accuracy\",\n",
    "min_delta=0.005,\n",
    "patience=20,\n",
    "restore_best_weights=True,\n",
    ")\n",
    "\n",
    "history = model.fit(X_train, y_train, epochs=100, validation_data=(X_val, y_val), batch_size=batch_size, callbacks=[early, keras.callbacks.TensorBoard(dirname+\"/logs\")])"
   ]
  },
  {
   "cell_type": "code",
   "execution_count": 21,
   "metadata": {},
   "outputs": [
    {
     "name": "stdout",
     "output_type": "stream",
     "text": [
      "0.8756725192070007 0.8745099902153015\n"
     ]
    }
   ],
   "source": [
    "# check of the performance of the model before saving (this is the model which will be saved)\n",
    "model_index = np.argmax(history.history[\"val_accuracy\"])\n",
    "print(history.history[\"accuracy\"][model_index], history.history[\"val_accuracy\"][model_index])"
   ]
  },
  {
   "cell_type": "code",
   "execution_count": 22,
   "metadata": {},
   "outputs": [
    {
     "name": "stdout",
     "output_type": "stream",
     "text": [
      "INFO:tensorflow:Assets written to: models/ship/model_post_01_large_4/model.tf/assets\n"
     ]
    },
    {
     "name": "stderr",
     "output_type": "stream",
     "text": [
      "INFO:tensorflow:Assets written to: models/ship/model_post_01_large_4/model.tf/assets\n"
     ]
    }
   ],
   "source": [
    "# model.save(dirname+\"/model.keras\")\n",
    "# model.save(dirname+\"/model.tf\")"
   ]
  }
 ],
 "metadata": {
  "kernelspec": {
   "display_name": "Python 3",
   "language": "python",
   "name": "python3"
  },
  "language_info": {
   "codemirror_mode": {
    "name": "ipython",
    "version": 3
   },
   "file_extension": ".py",
   "mimetype": "text/x-python",
   "name": "python",
   "nbconvert_exporter": "python",
   "pygments_lexer": "ipython3",
   "version": "3.10.12"
  },
  "orig_nbformat": 4,
  "vscode": {
   "interpreter": {
    "hash": "7fe3e4cd58daff8c5ec1777272bb51a0a8112716f34784098d68b99e81239645"
   }
  }
 },
 "nbformat": 4,
 "nbformat_minor": 2
}
